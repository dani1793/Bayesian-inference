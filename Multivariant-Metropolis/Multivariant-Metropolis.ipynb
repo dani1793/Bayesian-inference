{
 "cells": [
  {
   "cell_type": "code",
   "execution_count": 1,
   "metadata": {
    "collapsed": true
   },
   "outputs": [],
   "source": [
    "# import the required packages\n",
    "import numpy as np\n",
    "import matplotlib.pyplot as plt\n",
    "import psrf"
   ]
  },
  {
   "cell_type": "code",
   "execution_count": 50,
   "metadata": {
    "collapsed": false
   },
   "outputs": [],
   "source": [
    "#initialize global parameters\n",
    "x = np.array([-0.86, -0.30, -0.05, 0.73])\n",
    "n = 5\n",
    "y = np.array([0, 1, 3, 5])\n",
    "\n",
    "#config\n",
    "plt.rc('font', size=12)\n",
    "\n",
    "rnorm = np.random.normal\n",
    "runif = np.random.rand"
   ]
  },
  {
   "cell_type": "code",
   "execution_count": 51,
   "metadata": {
    "collapsed": true
   },
   "outputs": [],
   "source": [
    "#defining the method to get log posterior\n",
    "def bioassaylp(a, b, x=x, y=y, n=n):\n",
    "    t = a + b * x\n",
    "    et = np.exp(t)\n",
    "    z = et / (1. + et)\n",
    "    lp = np.sum(y * np.log(z) + (n - y) * np.log(1. - z))\n",
    "    return (lp)"
   ]
  },
  {
   "cell_type": "code",
   "execution_count": 27,
   "metadata": {
    "collapsed": false
   },
   "outputs": [],
   "source": [
    "# defining the method for metropilis algorithm\n",
    "def metropolis(n_iterations, initial_values, prop_var=1):\n",
    "    # np.random.seed(seed=1)\n",
    "    n_params = len(initial_values)\n",
    "\n",
    "    # Initial proposal standard deviations\n",
    "    prop_sd = [prop_var] * n_params # [1,1]\n",
    "    # Initialize trace for parameters\n",
    "    trace = np.empty((n_iterations + 1, n_params))\n",
    "    # Set initial values\n",
    "    trace[0] = initial_values\n",
    "\n",
    "    # Calculate joint posterior for initial values\n",
    "    current_prob = bioassaylp(trace[0][0], trace[0][1])\n",
    "    \n",
    "    # Initialize acceptance counts\n",
    "    accepted = [0] * n_params #[0,0]\n",
    "    for i in range(n_iterations):\n",
    "        # Grab current parameter values\n",
    "        current_params = trace[i]\n",
    "\n",
    "        # Get current value for parameter j\n",
    "        p = trace[i].copy()\n",
    "        for j in range(n_params):\n",
    "            theta = rnorm(current_params[j], prop_sd[j])\n",
    "\n",
    "            # Insert new value\n",
    "            p[j] = theta\n",
    "\n",
    "            # Calculate log posterior with proposed value\n",
    "            proposed_prob = bioassaylp(*p) # *p is the spreading operator\n",
    "\n",
    "            # Log-acceptance rate\n",
    "            # taking the ratio of the probabilities is equal to minus the log of probabilities\n",
    "            alpha = np.exp(proposed_prob - current_prob)\n",
    "\n",
    "            # Sample a uniform random variate\n",
    "            u = runif()\n",
    "\n",
    "            # Test proposed value\n",
    "            if u < alpha:\n",
    "                # Accept\n",
    "                trace[i + 1, j] = theta\n",
    "                current_prob = proposed_prob\n",
    "                accepted[j] += 1\n",
    "\n",
    "            else:\n",
    "                # Stay put\n",
    "                trace[i + 1, j] = trace[i, j]\n",
    "\n",
    "            p[j] = trace[i + 1, j]\n",
    "    return trace, accepted"
   ]
  },
  {
   "cell_type": "code",
   "execution_count": null,
   "metadata": {
    "collapsed": false
   },
   "outputs": [],
   "source": [
    "n_iter = 10000\n",
    "starting_points = [(2, 20), (4, 20), (-1, 15), (3, 12)]\n",
    "warmuplen = 5000\n",
    "traces_withoutwarmup = []\n",
    "\n",
    "for x in starting_points:\n",
    "    trace, acc = metropolis(n_iter, x, 1)\n",
    "    alpha = trace[warmuplen:, 0];\n",
    "    beta = trace[warmuplen:, 1];\n",
    "    traces_withoutwarmup.append(np.column_stack((alpha, beta)))\n",
    "\n",
    "stacked_traces = np.concatenate(traces_withoutwarmup)\n",
    "print(\"Convergance Analysis for samples - PSRF values:\", psrf.psrf(stacked_traces))\n",
    "plt.scatter(stacked_traces[:, 0], stacked_traces[:, 1], s=0.4, alpha=0.6)\n",
    "plt.ylim([-10, 40])\n",
    "plt.xlim([-4, 10])\n",
    "plt.ylabel(r'$\\beta$')\n",
    "plt.xlabel(r'$\\alpha$')\n",
    "plt.show()"
   ]
  }
 ],
 "metadata": {
  "kernelspec": {
   "display_name": "Python 3",
   "language": "python",
   "name": "python3"
  },
  "language_info": {
   "codemirror_mode": {
    "name": "ipython",
    "version": 3
   },
   "file_extension": ".py",
   "mimetype": "text/x-python",
   "name": "python",
   "nbconvert_exporter": "python",
   "pygments_lexer": "ipython3",
   "version": "3.5.1"
  }
 },
 "nbformat": 4,
 "nbformat_minor": 0
}
